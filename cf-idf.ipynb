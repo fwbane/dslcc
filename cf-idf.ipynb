{
 "cells": [
  {
   "cell_type": "code",
   "execution_count": 1,
   "metadata": {
    "collapsed": true
   },
   "outputs": [],
   "source": [
    "dataset = 'data/DSL-TRAIN.txt'"
   ]
  },
  {
   "cell_type": "code",
   "execution_count": 2,
   "metadata": {
    "collapsed": true
   },
   "outputs": [],
   "source": [
    "import nltk\n",
    "from nltk.tokenize import TreebankWordTokenizer\n",
    "from nltk.parse.corenlp import CoreNLPParser\n",
    "from nltk.tokenize import RegexpTokenizer\n",
    "from nltk.util import ngrams\n",
    "import pandas as pd\n",
    "from collections import Counter\n",
    "from collections import OrderedDict\n",
    "import copy"
   ]
  },
  {
   "cell_type": "code",
   "execution_count": 3,
   "metadata": {
    "collapsed": true
   },
   "outputs": [],
   "source": [
    "charset = set()\n",
    "with open(dataset, encoding='utf-8') as f:\n",
    "    for line in f:\n",
    "        charset.update(line)"
   ]
  },
  {
   "cell_type": "code",
   "execution_count": 4,
   "metadata": {
    "collapsed": false
   },
   "outputs": [
    {
     "data": {
      "text/plain": [
       "368"
      ]
     },
     "execution_count": 4,
     "metadata": {},
     "output_type": "execute_result"
    }
   ],
   "source": [
    "len(charset)"
   ]
  },
  {
   "cell_type": "code",
   "execution_count": 5,
   "metadata": {
    "collapsed": false
   },
   "outputs": [],
   "source": [
    "skip_chars = set(('!',  '\"',  '#',  '$',  '%',  '&',  \"'\",  '(',  ')',  '*',  '+',  ',',  '-',  '.',  '/',\n",
    "                  ':',  ';',  '<',  '=',  '>',  '?',  '@',  '[',  ']',  '^',  '_',  '`',  '{',  '|',  '}', \n",
    "                  '~',  '\\x7f',  '\\xa0',  '¡',  '¢',  '£',  '¤',  '¥',  '¦',  '§',  '¨',  'ª',  '«',  '¬',\n",
    "                  '®',  '¯',  '°',  '²',  '³',  '´',  '¶',  '·',  'º',  '»',  '¼',  '½',  '¾',  '¿',  '˚',\n",
    "                  '˜', '˝', '̀', '́', '̂', '̃', '̧', '̷', '\\u2009', '\\u200b', '\\u200c', '\\u200d', '\\u200e', '\\u200f',\n",
    "                  '‐', '‑', '–', '—', '―', '‘', '’', '‚', '“', '”', '„', '•', '…', '\\u202a', '\\u202b', '\\u202c',\n",
    "                  '′', '″', '›', '₂', '€', '™', '→', '−', '∙', '■', '▪', '▶', '●', '♦', '\\ufeff', '�', '\\t', '\\n'\n",
    "                 ))"
   ]
  },
  {
   "cell_type": "code",
   "execution_count": 10,
   "metadata": {
    "collapsed": false
   },
   "outputs": [],
   "source": [
    "charset = sorted(list([char for char in charset if char not in skip_chars]))"
   ]
  },
  {
   "cell_type": "code",
   "execution_count": 11,
   "metadata": {
    "collapsed": false
   },
   "outputs": [
    {
     "data": {
      "text/plain": [
       "261"
      ]
     },
     "execution_count": 11,
     "metadata": {},
     "output_type": "execute_result"
    }
   ],
   "source": [
    "len(charset)"
   ]
  },
  {
   "cell_type": "code",
   "execution_count": 12,
   "metadata": {
    "collapsed": true
   },
   "outputs": [],
   "source": [
    "zero_vec = OrderedDict((token, 0) for token in charset)"
   ]
  },
  {
   "cell_type": "code",
   "execution_count": 13,
   "metadata": {
    "collapsed": false
   },
   "outputs": [
    {
     "data": {
      "text/plain": [
       "OrderedDict([(' ', 0),\n",
       "             ('0', 0),\n",
       "             ('1', 0),\n",
       "             ('2', 0),\n",
       "             ('3', 0),\n",
       "             ('4', 0),\n",
       "             ('5', 0),\n",
       "             ('6', 0),\n",
       "             ('7', 0),\n",
       "             ('8', 0),\n",
       "             ('9', 0),\n",
       "             ('A', 0),\n",
       "             ('B', 0),\n",
       "             ('C', 0),\n",
       "             ('D', 0),\n",
       "             ('E', 0),\n",
       "             ('F', 0),\n",
       "             ('G', 0),\n",
       "             ('H', 0),\n",
       "             ('I', 0),\n",
       "             ('J', 0),\n",
       "             ('K', 0),\n",
       "             ('L', 0),\n",
       "             ('M', 0),\n",
       "             ('N', 0),\n",
       "             ('O', 0),\n",
       "             ('P', 0),\n",
       "             ('Q', 0),\n",
       "             ('R', 0),\n",
       "             ('S', 0),\n",
       "             ('T', 0),\n",
       "             ('U', 0),\n",
       "             ('V', 0),\n",
       "             ('W', 0),\n",
       "             ('X', 0),\n",
       "             ('Y', 0),\n",
       "             ('Z', 0),\n",
       "             ('a', 0),\n",
       "             ('b', 0),\n",
       "             ('c', 0),\n",
       "             ('d', 0),\n",
       "             ('e', 0),\n",
       "             ('f', 0),\n",
       "             ('g', 0),\n",
       "             ('h', 0),\n",
       "             ('i', 0),\n",
       "             ('j', 0),\n",
       "             ('k', 0),\n",
       "             ('l', 0),\n",
       "             ('m', 0),\n",
       "             ('n', 0),\n",
       "             ('o', 0),\n",
       "             ('p', 0),\n",
       "             ('q', 0),\n",
       "             ('r', 0),\n",
       "             ('s', 0),\n",
       "             ('t', 0),\n",
       "             ('u', 0),\n",
       "             ('v', 0),\n",
       "             ('w', 0),\n",
       "             ('x', 0),\n",
       "             ('y', 0),\n",
       "             ('z', 0),\n",
       "             ('À', 0),\n",
       "             ('Á', 0),\n",
       "             ('Â', 0),\n",
       "             ('Ã', 0),\n",
       "             ('Å', 0),\n",
       "             ('Ç', 0),\n",
       "             ('È', 0),\n",
       "             ('É', 0),\n",
       "             ('Ê', 0),\n",
       "             ('Ë', 0),\n",
       "             ('Í', 0),\n",
       "             ('Î', 0),\n",
       "             ('Ð', 0),\n",
       "             ('Ñ', 0),\n",
       "             ('Ó', 0),\n",
       "             ('Ô', 0),\n",
       "             ('Õ', 0),\n",
       "             ('Ö', 0),\n",
       "             ('×', 0),\n",
       "             ('Ø', 0),\n",
       "             ('Ù', 0),\n",
       "             ('Ú', 0),\n",
       "             ('Ü', 0),\n",
       "             ('ß', 0),\n",
       "             ('à', 0),\n",
       "             ('á', 0),\n",
       "             ('â', 0),\n",
       "             ('ã', 0),\n",
       "             ('ä', 0),\n",
       "             ('å', 0),\n",
       "             ('æ', 0),\n",
       "             ('ç', 0),\n",
       "             ('è', 0),\n",
       "             ('é', 0),\n",
       "             ('ê', 0),\n",
       "             ('ë', 0),\n",
       "             ('ì', 0),\n",
       "             ('í', 0),\n",
       "             ('î', 0),\n",
       "             ('ï', 0),\n",
       "             ('ñ', 0),\n",
       "             ('ò', 0),\n",
       "             ('ó', 0),\n",
       "             ('ô', 0),\n",
       "             ('õ', 0),\n",
       "             ('ö', 0),\n",
       "             ('ø', 0),\n",
       "             ('ù', 0),\n",
       "             ('ú', 0),\n",
       "             ('û', 0),\n",
       "             ('ü', 0),\n",
       "             ('ÿ', 0),\n",
       "             ('ă', 0),\n",
       "             ('Ć', 0),\n",
       "             ('ć', 0),\n",
       "             ('Č', 0),\n",
       "             ('č', 0),\n",
       "             ('Đ', 0),\n",
       "             ('đ', 0),\n",
       "             ('Ğ', 0),\n",
       "             ('ı', 0),\n",
       "             ('ō', 0),\n",
       "             ('ő', 0),\n",
       "             ('Œ', 0),\n",
       "             ('œ', 0),\n",
       "             ('ŕ', 0),\n",
       "             ('ś', 0),\n",
       "             ('ş', 0),\n",
       "             ('Š', 0),\n",
       "             ('š', 0),\n",
       "             ('ů', 0),\n",
       "             ('Ž', 0),\n",
       "             ('ž', 0),\n",
       "             ('Ј', 0),\n",
       "             ('Ћ', 0),\n",
       "             ('Б', 0),\n",
       "             ('Ж', 0),\n",
       "             ('К', 0),\n",
       "             ('М', 0),\n",
       "             ('Н', 0),\n",
       "             ('Р', 0),\n",
       "             ('С', 0),\n",
       "             ('У', 0),\n",
       "             ('а', 0),\n",
       "             ('б', 0),\n",
       "             ('в', 0),\n",
       "             ('д', 0),\n",
       "             ('е', 0),\n",
       "             ('и', 0),\n",
       "             ('к', 0),\n",
       "             ('л', 0),\n",
       "             ('м', 0),\n",
       "             ('н', 0),\n",
       "             ('о', 0),\n",
       "             ('р', 0),\n",
       "             ('с', 0),\n",
       "             ('т', 0),\n",
       "             ('у', 0),\n",
       "             ('ц', 0),\n",
       "             ('ч', 0),\n",
       "             ('ш', 0),\n",
       "             ('ј', 0),\n",
       "             ('љ', 0),\n",
       "             ('њ', 0),\n",
       "             ('ћ', 0),\n",
       "             ('џ', 0),\n",
       "             ('،', 0),\n",
       "             ('؛', 0),\n",
       "             ('؟', 0),\n",
       "             ('ء', 0),\n",
       "             ('آ', 0),\n",
       "             ('أ', 0),\n",
       "             ('ؤ', 0),\n",
       "             ('إ', 0),\n",
       "             ('ئ', 0),\n",
       "             ('ا', 0),\n",
       "             ('ب', 0),\n",
       "             ('ة', 0),\n",
       "             ('ت', 0),\n",
       "             ('ث', 0),\n",
       "             ('ج', 0),\n",
       "             ('ح', 0),\n",
       "             ('خ', 0),\n",
       "             ('د', 0),\n",
       "             ('ذ', 0),\n",
       "             ('ر', 0),\n",
       "             ('ز', 0),\n",
       "             ('س', 0),\n",
       "             ('ش', 0),\n",
       "             ('ص', 0),\n",
       "             ('ض', 0),\n",
       "             ('ط', 0),\n",
       "             ('ظ', 0),\n",
       "             ('ع', 0),\n",
       "             ('غ', 0),\n",
       "             ('ـ', 0),\n",
       "             ('ف', 0),\n",
       "             ('ق', 0),\n",
       "             ('ك', 0),\n",
       "             ('ل', 0),\n",
       "             ('م', 0),\n",
       "             ('ن', 0),\n",
       "             ('ه', 0),\n",
       "             ('و', 0),\n",
       "             ('ى', 0),\n",
       "             ('ي', 0),\n",
       "             ('ً', 0),\n",
       "             ('ٌ', 0),\n",
       "             ('ٍ', 0),\n",
       "             ('َ', 0),\n",
       "             ('ُ', 0),\n",
       "             ('ِ', 0),\n",
       "             ('ّ', 0),\n",
       "             ('ْ', 0),\n",
       "             ('ٔ', 0),\n",
       "             ('٠', 0),\n",
       "             ('١', 0),\n",
       "             ('٢', 0),\n",
       "             ('٣', 0),\n",
       "             ('٤', 0),\n",
       "             ('٥', 0),\n",
       "             ('٦', 0),\n",
       "             ('٧', 0),\n",
       "             ('٨', 0),\n",
       "             ('٩', 0),\n",
       "             ('٪', 0),\n",
       "             ('٬', 0),\n",
       "             ('ټ', 0),\n",
       "             ('پ', 0),\n",
       "             ('ځ', 0),\n",
       "             ('څ', 0),\n",
       "             ('چ', 0),\n",
       "             ('ډ', 0),\n",
       "             ('ړ', 0),\n",
       "             ('ږ', 0),\n",
       "             ('ژ', 0),\n",
       "             ('ښ', 0),\n",
       "             ('ڤ', 0),\n",
       "             ('ک', 0),\n",
       "             ('ګ', 0),\n",
       "             ('گ', 0),\n",
       "             ('ڼ', 0),\n",
       "             ('ۀ', 0),\n",
       "             ('ی', 0),\n",
       "             ('ۍ', 0),\n",
       "             ('ې', 0),\n",
       "             ('ۛ', 0),\n",
       "             ('۬', 0),\n",
       "             ('۰', 0),\n",
       "             ('۱', 0),\n",
       "             ('۲', 0),\n",
       "             ('۳', 0),\n",
       "             ('۴', 0),\n",
       "             ('۵', 0),\n",
       "             ('۶', 0),\n",
       "             ('۷', 0),\n",
       "             ('۸', 0),\n",
       "             ('۹', 0)])"
      ]
     },
     "execution_count": 13,
     "metadata": {},
     "output_type": "execute_result"
    }
   ],
   "source": [
    "zero_vec"
   ]
  },
  {
   "cell_type": "code",
   "execution_count": 14,
   "metadata": {
    "collapsed": false
   },
   "outputs": [
    {
     "name": "stderr",
     "output_type": "stream",
     "text": [
      "C:\\Users\\FRIDAY\\Anaconda3\\envs\\spacy\\lib\\site-packages\\ipykernel_launcher.py:2: ParserWarning: Falling back to the 'python' engine because the 'c' engine does not support regex separators (separators > 1 char and different from '\\s+' are interpreted as regex); you can avoid this warning by specifying engine='python'.\n",
      "  \n"
     ]
    }
   ],
   "source": [
    "columns = ['Text', 'Language']\n",
    "df_dataset = pd.read_csv(dataset, header=None, index_col=False, sep=r'\\t', encoding=\"utf-8\")\n",
    "df_dataset.columns = columns"
   ]
  },
  {
   "cell_type": "code",
   "execution_count": 37,
   "metadata": {
    "collapsed": false
   },
   "outputs": [
    {
     "name": "stdout",
     "output_type": "stream",
     "text": [
      "10.108915567398071\n"
     ]
    }
   ],
   "source": [
    "import time\n",
    "t = time.time()\n",
    "id_vectors = []\n",
    "for lg in ['id']:\n",
    "    lg_idf = copy.copy(zero_vec)\n",
    "    lg_cfidf_vectors = []\n",
    "    temp_df = df_dataset[df_dataset['Language']==lg]['Text']\n",
    "    for text in temp_df:\n",
    "        text = set([char for char in text if char in charset])\n",
    "        for char in text:\n",
    "            lg_idf[char] += 1\n",
    "    for k, v in lg_idf.items():\n",
    "        lg_idf[k] = v/len(temp_df)\n",
    "    for text in temp_df:\n",
    "        vec = copy.copy(zero_vec)\n",
    "        tokens = [char for char in text if char in charset]\n",
    "        text_counter = Counter(tokens)\n",
    "        for k, v in text_counter.items():\n",
    "            lines_containing_key = lg_idf[k]\n",
    "            cf = v / len(text)\n",
    "            if lines_containing_key:\n",
    "                idf = len(temp_df) / lines_containing_key\n",
    "            else:\n",
    "                idf = 0\n",
    "            vec[k] = cf * idf\n",
    "        lg_cfidf_vectors.append(vec)\n",
    "    id_vectors.append((lg, lg_cfidf_vectors))\n",
    "print(time.time()-t)"
   ]
  },
  {
   "cell_type": "code",
   "execution_count": 16,
   "metadata": {
    "collapsed": false
   },
   "outputs": [
    {
     "name": "stdout",
     "output_type": "stream",
     "text": [
      "k i, v 22, len(temp_df) 18000, lg_idf[k] 0.9983333333333333, lines_containing_key 0.9983333333333333, cf 0.061452513966480445, idf 18030.050083472455\n"
     ]
    }
   ],
   "source": [
    "print(\"k {}, v {}, len(temp_df) {}, lg_idf[k] {}, lines_containing_key {}, cf {}, idf {}\".format(k, v, len(temp_df), lg_idf[k], lines_containing_key, cf, idf))"
   ]
  },
  {
   "cell_type": "code",
   "execution_count": 17,
   "metadata": {
    "collapsed": false
   },
   "outputs": [
    {
     "data": {
      "text/plain": [
       "[('a', 62),\n",
       " (' ', 47),\n",
       " ('i', 22),\n",
       " ('e', 21),\n",
       " ('n', 20),\n",
       " ('r', 14),\n",
       " ('m', 13),\n",
       " ('l', 12),\n",
       " ('t', 11),\n",
       " ('k', 10),\n",
       " ('u', 10),\n",
       " ('h', 9),\n",
       " ('b', 9),\n",
       " ('d', 8),\n",
       " ('g', 8),\n",
       " ('p', 7),\n",
       " ('s', 6),\n",
       " ('y', 6),\n",
       " ('K', 6),\n",
       " ('o', 5),\n",
       " ('j', 5),\n",
       " ('1', 5),\n",
       " ('H', 4),\n",
       " ('A', 3),\n",
       " ('S', 3),\n",
       " ('7', 2),\n",
       " ('J', 1),\n",
       " ('M', 1),\n",
       " ('4', 1),\n",
       " ('O', 1),\n",
       " ('f', 1),\n",
       " ('Y', 1),\n",
       " ('P', 1),\n",
       " ('w', 1),\n",
       " ('c', 1)]"
      ]
     },
     "execution_count": 17,
     "metadata": {},
     "output_type": "execute_result"
    }
   ],
   "source": [
    "text_counter.most_common()"
   ]
  },
  {
   "cell_type": "code",
   "execution_count": 18,
   "metadata": {
    "collapsed": false
   },
   "outputs": [
    {
     "data": {
      "text/plain": [
       "[('a', 3119.398034443819),\n",
       " (' ', 2363.2597838303245),\n",
       " ('7', 1271.9999057777848),\n",
       " ('i', 1107.991904570933),\n",
       " ('H', 1063.800097515009),\n",
       " ('e', 1059.338196988951),\n",
       " ('1', 1019.8646979500719),\n",
       " ('n', 1007.6578889505025),\n",
       " ('r', 707.8430760587996),\n",
       " ('K', 669.8122113932851),\n",
       " ('m', 661.2726578513726),\n",
       " ('Y', 622.868501693664),\n",
       " ('l', 615.1073400277937),\n",
       " ('t', 556.659990078832),\n",
       " ('k', 507.5871749640459),\n",
       " ('u', 506.3093331249755),\n",
       " ('4', 504.1938345186038),\n",
       " ('h', 477.3074360766508),\n",
       " ('b', 474.14001959648675),\n",
       " ('O', 463.6413590988186),\n",
       " ('g', 409.63074759191807),\n",
       " ('d', 407.6243364309847),\n",
       " ('p', 362.21815498720736),\n",
       " ('A', 342.94351381617804),\n",
       " ('j', 332.6819338924032),\n",
       " ('y', 331.6335408431271),\n",
       " ('s', 304.7061106428013),\n",
       " ('o', 280.5070459214275),\n",
       " ('S', 262.3776380829804),\n",
       " ('J', 208.4837440591785),\n",
       " ('f', 160.55134521215078),\n",
       " ('M', 114.1702955671621),\n",
       " ('w', 105.00382097237429),\n",
       " ('P', 94.67809739103399),\n",
       " ('c', 91.3984985821949),\n",
       " ('0', 0),\n",
       " ('2', 0),\n",
       " ('3', 0),\n",
       " ('5', 0),\n",
       " ('6', 0),\n",
       " ('8', 0),\n",
       " ('9', 0),\n",
       " ('B', 0),\n",
       " ('C', 0),\n",
       " ('D', 0),\n",
       " ('E', 0),\n",
       " ('F', 0),\n",
       " ('G', 0),\n",
       " ('I', 0),\n",
       " ('L', 0),\n",
       " ('N', 0),\n",
       " ('Q', 0),\n",
       " ('R', 0),\n",
       " ('T', 0),\n",
       " ('U', 0),\n",
       " ('V', 0),\n",
       " ('W', 0),\n",
       " ('X', 0),\n",
       " ('Z', 0),\n",
       " ('q', 0),\n",
       " ('v', 0),\n",
       " ('x', 0),\n",
       " ('z', 0),\n",
       " ('À', 0),\n",
       " ('Á', 0),\n",
       " ('Â', 0),\n",
       " ('Ã', 0),\n",
       " ('Å', 0),\n",
       " ('Ç', 0),\n",
       " ('È', 0),\n",
       " ('É', 0),\n",
       " ('Ê', 0),\n",
       " ('Ë', 0),\n",
       " ('Í', 0),\n",
       " ('Î', 0),\n",
       " ('Ð', 0),\n",
       " ('Ñ', 0),\n",
       " ('Ó', 0),\n",
       " ('Ô', 0),\n",
       " ('Õ', 0),\n",
       " ('Ö', 0),\n",
       " ('×', 0),\n",
       " ('Ø', 0),\n",
       " ('Ù', 0),\n",
       " ('Ú', 0),\n",
       " ('Ü', 0),\n",
       " ('ß', 0),\n",
       " ('à', 0),\n",
       " ('á', 0),\n",
       " ('â', 0),\n",
       " ('ã', 0),\n",
       " ('ä', 0),\n",
       " ('å', 0),\n",
       " ('æ', 0),\n",
       " ('ç', 0),\n",
       " ('è', 0),\n",
       " ('é', 0),\n",
       " ('ê', 0),\n",
       " ('ë', 0),\n",
       " ('ì', 0),\n",
       " ('í', 0),\n",
       " ('î', 0),\n",
       " ('ï', 0),\n",
       " ('ñ', 0),\n",
       " ('ò', 0),\n",
       " ('ó', 0),\n",
       " ('ô', 0),\n",
       " ('õ', 0),\n",
       " ('ö', 0),\n",
       " ('ø', 0),\n",
       " ('ù', 0),\n",
       " ('ú', 0),\n",
       " ('û', 0),\n",
       " ('ü', 0),\n",
       " ('ÿ', 0),\n",
       " ('ă', 0),\n",
       " ('Ć', 0),\n",
       " ('ć', 0),\n",
       " ('Č', 0),\n",
       " ('č', 0),\n",
       " ('Đ', 0),\n",
       " ('đ', 0),\n",
       " ('Ğ', 0),\n",
       " ('ı', 0),\n",
       " ('ō', 0),\n",
       " ('ő', 0),\n",
       " ('Œ', 0),\n",
       " ('œ', 0),\n",
       " ('ŕ', 0),\n",
       " ('ś', 0),\n",
       " ('ş', 0),\n",
       " ('Š', 0),\n",
       " ('š', 0),\n",
       " ('ů', 0),\n",
       " ('Ž', 0),\n",
       " ('ž', 0),\n",
       " ('Ј', 0),\n",
       " ('Ћ', 0),\n",
       " ('Б', 0),\n",
       " ('Ж', 0),\n",
       " ('К', 0),\n",
       " ('М', 0),\n",
       " ('Н', 0),\n",
       " ('Р', 0),\n",
       " ('С', 0),\n",
       " ('У', 0),\n",
       " ('а', 0),\n",
       " ('б', 0),\n",
       " ('в', 0),\n",
       " ('д', 0),\n",
       " ('е', 0),\n",
       " ('и', 0),\n",
       " ('к', 0),\n",
       " ('л', 0),\n",
       " ('м', 0),\n",
       " ('н', 0),\n",
       " ('о', 0),\n",
       " ('р', 0),\n",
       " ('с', 0),\n",
       " ('т', 0),\n",
       " ('у', 0),\n",
       " ('ц', 0),\n",
       " ('ч', 0),\n",
       " ('ш', 0),\n",
       " ('ј', 0),\n",
       " ('љ', 0),\n",
       " ('њ', 0),\n",
       " ('ћ', 0),\n",
       " ('џ', 0),\n",
       " ('،', 0),\n",
       " ('؛', 0),\n",
       " ('؟', 0),\n",
       " ('ء', 0),\n",
       " ('آ', 0),\n",
       " ('أ', 0),\n",
       " ('ؤ', 0),\n",
       " ('إ', 0),\n",
       " ('ئ', 0),\n",
       " ('ا', 0),\n",
       " ('ب', 0),\n",
       " ('ة', 0),\n",
       " ('ت', 0),\n",
       " ('ث', 0),\n",
       " ('ج', 0),\n",
       " ('ح', 0),\n",
       " ('خ', 0),\n",
       " ('د', 0),\n",
       " ('ذ', 0),\n",
       " ('ر', 0),\n",
       " ('ز', 0),\n",
       " ('س', 0),\n",
       " ('ش', 0),\n",
       " ('ص', 0),\n",
       " ('ض', 0),\n",
       " ('ط', 0),\n",
       " ('ظ', 0),\n",
       " ('ع', 0),\n",
       " ('غ', 0),\n",
       " ('ـ', 0),\n",
       " ('ف', 0),\n",
       " ('ق', 0),\n",
       " ('ك', 0),\n",
       " ('ل', 0),\n",
       " ('م', 0),\n",
       " ('ن', 0),\n",
       " ('ه', 0),\n",
       " ('و', 0),\n",
       " ('ى', 0),\n",
       " ('ي', 0),\n",
       " ('ً', 0),\n",
       " ('ٌ', 0),\n",
       " ('ٍ', 0),\n",
       " ('َ', 0),\n",
       " ('ُ', 0),\n",
       " ('ِ', 0),\n",
       " ('ّ', 0),\n",
       " ('ْ', 0),\n",
       " ('ٔ', 0),\n",
       " ('٠', 0),\n",
       " ('١', 0),\n",
       " ('٢', 0),\n",
       " ('٣', 0),\n",
       " ('٤', 0),\n",
       " ('٥', 0),\n",
       " ('٦', 0),\n",
       " ('٧', 0),\n",
       " ('٨', 0),\n",
       " ('٩', 0),\n",
       " ('٪', 0),\n",
       " ('٬', 0),\n",
       " ('ټ', 0),\n",
       " ('پ', 0),\n",
       " ('ځ', 0),\n",
       " ('څ', 0),\n",
       " ('چ', 0),\n",
       " ('ډ', 0),\n",
       " ('ړ', 0),\n",
       " ('ږ', 0),\n",
       " ('ژ', 0),\n",
       " ('ښ', 0),\n",
       " ('ڤ', 0),\n",
       " ('ک', 0),\n",
       " ('ګ', 0),\n",
       " ('گ', 0),\n",
       " ('ڼ', 0),\n",
       " ('ۀ', 0),\n",
       " ('ی', 0),\n",
       " ('ۍ', 0),\n",
       " ('ې', 0),\n",
       " ('ۛ', 0),\n",
       " ('۬', 0),\n",
       " ('۰', 0),\n",
       " ('۱', 0),\n",
       " ('۲', 0),\n",
       " ('۳', 0),\n",
       " ('۴', 0),\n",
       " ('۵', 0),\n",
       " ('۶', 0),\n",
       " ('۷', 0),\n",
       " ('۸', 0),\n",
       " ('۹', 0)]"
      ]
     },
     "execution_count": 18,
     "metadata": {},
     "output_type": "execute_result"
    }
   ],
   "source": [
    "sorted(vec.items(), key=lambda x: x[1], reverse=True)"
   ]
  },
  {
   "cell_type": "code",
   "execution_count": 26,
   "metadata": {
    "collapsed": false
   },
   "outputs": [],
   "source": [
    "columns = charset + ['Language']\n",
    "this_df = pd.DataFrame(columns = columns)\n",
    "this_df.loc[0] = list(vec.values()) + [lg]"
   ]
  },
  {
   "cell_type": "code",
   "execution_count": 27,
   "metadata": {
    "collapsed": false
   },
   "outputs": [
    {
     "data": {
      "text/html": [
       "<div>\n",
       "<style scoped>\n",
       "    .dataframe tbody tr th:only-of-type {\n",
       "        vertical-align: middle;\n",
       "    }\n",
       "\n",
       "    .dataframe tbody tr th {\n",
       "        vertical-align: top;\n",
       "    }\n",
       "\n",
       "    .dataframe thead th {\n",
       "        text-align: right;\n",
       "    }\n",
       "</style>\n",
       "<table border=\"1\" class=\"dataframe\">\n",
       "  <thead>\n",
       "    <tr style=\"text-align: right;\">\n",
       "      <th></th>\n",
       "      <th></th>\n",
       "      <th>0</th>\n",
       "      <th>1</th>\n",
       "      <th>2</th>\n",
       "      <th>3</th>\n",
       "      <th>4</th>\n",
       "      <th>5</th>\n",
       "      <th>6</th>\n",
       "      <th>7</th>\n",
       "      <th>8</th>\n",
       "      <th>...</th>\n",
       "      <th>۱</th>\n",
       "      <th>۲</th>\n",
       "      <th>۳</th>\n",
       "      <th>۴</th>\n",
       "      <th>۵</th>\n",
       "      <th>۶</th>\n",
       "      <th>۷</th>\n",
       "      <th>۸</th>\n",
       "      <th>۹</th>\n",
       "      <th>Language</th>\n",
       "    </tr>\n",
       "  </thead>\n",
       "  <tbody>\n",
       "    <tr>\n",
       "      <th>0</th>\n",
       "      <td>2363.259784</td>\n",
       "      <td>0</td>\n",
       "      <td>1019.864698</td>\n",
       "      <td>0</td>\n",
       "      <td>0</td>\n",
       "      <td>504.193835</td>\n",
       "      <td>0</td>\n",
       "      <td>0</td>\n",
       "      <td>1271.999906</td>\n",
       "      <td>0</td>\n",
       "      <td>...</td>\n",
       "      <td>0</td>\n",
       "      <td>0</td>\n",
       "      <td>0</td>\n",
       "      <td>0</td>\n",
       "      <td>0</td>\n",
       "      <td>0</td>\n",
       "      <td>0</td>\n",
       "      <td>0</td>\n",
       "      <td>0</td>\n",
       "      <td>id</td>\n",
       "    </tr>\n",
       "  </tbody>\n",
       "</table>\n",
       "<p>1 rows × 262 columns</p>\n",
       "</div>"
      ],
      "text/plain": [
       "                0            1  2  3           4  5  6            7  8  \\\n",
       "0  2363.259784  0  1019.864698  0  0  504.193835  0  0  1271.999906  0   \n",
       "\n",
       "    ...     ۱  ۲  ۳  ۴  ۵  ۶  ۷  ۸  ۹ Language  \n",
       "0   ...     0  0  0  0  0  0  0  0  0       id  \n",
       "\n",
       "[1 rows x 262 columns]"
      ]
     },
     "execution_count": 27,
     "metadata": {},
     "output_type": "execute_result"
    }
   ],
   "source": [
    "this_df"
   ]
  },
  {
   "cell_type": "code",
   "execution_count": 29,
   "metadata": {
    "collapsed": false,
    "scrolled": true
   },
   "outputs": [],
   "source": [
    "this_df.to_csv('id.csv', encoding='utf-16', sep=\"\\t\")"
   ]
  },
  {
   "cell_type": "code",
   "execution_count": 33,
   "metadata": {
    "collapsed": false
   },
   "outputs": [],
   "source": [
    "test = pd.read_csv('id.csv', encoding='utf-16', sep=\"\\t\", index_col=0)"
   ]
  },
  {
   "cell_type": "code",
   "execution_count": 34,
   "metadata": {
    "collapsed": false
   },
   "outputs": [
    {
     "data": {
      "text/html": [
       "<div>\n",
       "<style scoped>\n",
       "    .dataframe tbody tr th:only-of-type {\n",
       "        vertical-align: middle;\n",
       "    }\n",
       "\n",
       "    .dataframe tbody tr th {\n",
       "        vertical-align: top;\n",
       "    }\n",
       "\n",
       "    .dataframe thead th {\n",
       "        text-align: right;\n",
       "    }\n",
       "</style>\n",
       "<table border=\"1\" class=\"dataframe\">\n",
       "  <thead>\n",
       "    <tr style=\"text-align: right;\">\n",
       "      <th></th>\n",
       "      <th></th>\n",
       "      <th>0</th>\n",
       "      <th>1</th>\n",
       "      <th>2</th>\n",
       "      <th>3</th>\n",
       "      <th>4</th>\n",
       "      <th>5</th>\n",
       "      <th>6</th>\n",
       "      <th>7</th>\n",
       "      <th>8</th>\n",
       "      <th>...</th>\n",
       "      <th>۱</th>\n",
       "      <th>۲</th>\n",
       "      <th>۳</th>\n",
       "      <th>۴</th>\n",
       "      <th>۵</th>\n",
       "      <th>۶</th>\n",
       "      <th>۷</th>\n",
       "      <th>۸</th>\n",
       "      <th>۹</th>\n",
       "      <th>Language</th>\n",
       "    </tr>\n",
       "  </thead>\n",
       "  <tbody>\n",
       "    <tr>\n",
       "      <th>0</th>\n",
       "      <td>2363.259784</td>\n",
       "      <td>0</td>\n",
       "      <td>1019.864698</td>\n",
       "      <td>0</td>\n",
       "      <td>0</td>\n",
       "      <td>504.193835</td>\n",
       "      <td>0</td>\n",
       "      <td>0</td>\n",
       "      <td>1271.999906</td>\n",
       "      <td>0</td>\n",
       "      <td>...</td>\n",
       "      <td>0</td>\n",
       "      <td>0</td>\n",
       "      <td>0</td>\n",
       "      <td>0</td>\n",
       "      <td>0</td>\n",
       "      <td>0</td>\n",
       "      <td>0</td>\n",
       "      <td>0</td>\n",
       "      <td>0</td>\n",
       "      <td>id</td>\n",
       "    </tr>\n",
       "  </tbody>\n",
       "</table>\n",
       "<p>1 rows × 262 columns</p>\n",
       "</div>"
      ],
      "text/plain": [
       "                0            1  2  3           4  5  6            7  8  \\\n",
       "0  2363.259784  0  1019.864698  0  0  504.193835  0  0  1271.999906  0   \n",
       "\n",
       "     ...     ۱  ۲  ۳  ۴  ۵  ۶  ۷  ۸  ۹  Language  \n",
       "0    ...     0  0  0  0  0  0  0  0  0        id  \n",
       "\n",
       "[1 rows x 262 columns]"
      ]
     },
     "execution_count": 34,
     "metadata": {},
     "output_type": "execute_result"
    }
   ],
   "source": [
    "test"
   ]
  },
  {
   "cell_type": "code",
   "execution_count": 45,
   "metadata": {
    "collapsed": false
   },
   "outputs": [
    {
     "name": "stdout",
     "output_type": "stream",
     "text": [
      "bs 1565881510.9515011\n",
      "done\n",
      "done\n",
      "done,  9.002484798431396\n",
      "----------\n",
      "es-AR 1565881519.9550033\n",
      "done\n",
      "done\n",
      "done,  9.99352478981018\n",
      "----------\n",
      "es-ES 1565881529.9535255\n",
      "done\n",
      "done\n",
      "done,  11.116546154022217\n",
      "----------\n",
      "es-PE 1565881541.0700717\n",
      "done\n",
      "done\n",
      "done,  7.1871254444122314\n",
      "----------\n",
      "fa-AF 1565881548.2571971\n",
      "done\n",
      "done\n",
      "done,  15.4144766330719\n",
      "----------\n",
      "fa-IR 1565881563.6716738\n",
      "done\n",
      "done\n",
      "done,  21.20604395866394\n",
      "----------\n",
      "fr-CA 1565881584.8777177\n",
      "done\n",
      "done\n",
      "done,  8.068223476409912\n",
      "----------\n",
      "fr-FR 1565881592.9459412\n",
      "done\n",
      "done\n",
      "done,  9.489352941513062\n",
      "----------\n",
      "hr 1565881602.4352942\n",
      "done\n",
      "done\n",
      "done,  12.430476665496826\n",
      "----------\n",
      "id 1565881614.8667705\n",
      "done\n",
      "done\n",
      "done,  10.70905089378357\n",
      "----------\n",
      "my 1565881625.5758214\n",
      "done\n",
      "done\n",
      "done,  7.871630907058716\n",
      "----------\n",
      "pt-BR 1565881633.4474523\n",
      "done\n",
      "done\n",
      "done,  9.960795879364014\n",
      "----------\n",
      "pt-PT 1565881643.4082482\n",
      "done\n",
      "done\n",
      "done,  12.328917503356934\n",
      "----------\n",
      "sr 1565881655.7371657\n",
      "done\n",
      "done\n",
      "done,  9.372217416763306\n",
      "----------\n"
     ]
    }
   ],
   "source": [
    "columns = charset + ['Language']\n",
    "this_df = pd.DataFrame(columns = columns)\n",
    "all_lg_vectors = []\n",
    "for lg in list(df_dataset.Language.unique()):\n",
    "    t = time.time()\n",
    "    print(lg, t)\n",
    "    lg_idf = copy.copy(zero_vec)\n",
    "    lg_cfidf_vectors = []\n",
    "    temp_df = df_dataset[df_dataset['Language']==lg]['Text']\n",
    "    for text in temp_df:\n",
    "        text = set([char for char in text if char in charset])\n",
    "        for char in text:\n",
    "            lg_idf[char] += 1\n",
    "    print(\"done\")\n",
    "    for k, v in lg_idf.items():\n",
    "        lg_idf[k] = v/len(temp_df)\n",
    "    print(\"done\")\n",
    "    for i, text in enumerate(temp_df):\n",
    "        vec = copy.copy(zero_vec)\n",
    "        tokens = [char for char in text if char in charset]\n",
    "        text_counter = Counter(tokens)\n",
    "        for k, v in text_counter.items():\n",
    "            lines_containing_key = lg_idf[k]\n",
    "            cf = v / len(text)\n",
    "            if lines_containing_key:\n",
    "                idf = len(temp_df) / lines_containing_key\n",
    "            else:\n",
    "                idf = 0\n",
    "            vec[k] = cf * idf\n",
    "        lg_cfidf_vectors.append(vec)\n",
    "    all_lg_vectors.append(lg_cfidf_vectors)\n",
    "    print(\"done, \", time.time()-t)\n",
    "    print(\"----------\")"
   ]
  },
  {
   "cell_type": "code",
   "execution_count": 46,
   "metadata": {
    "collapsed": false
   },
   "outputs": [
    {
     "data": {
      "text/plain": [
       "14"
      ]
     },
     "execution_count": 46,
     "metadata": {},
     "output_type": "execute_result"
    }
   ],
   "source": [
    "len(all_lg_vectors)"
   ]
  },
  {
   "cell_type": "code",
   "execution_count": 47,
   "metadata": {
    "collapsed": false
   },
   "outputs": [
    {
     "data": {
      "text/plain": [
       "18000"
      ]
     },
     "execution_count": 47,
     "metadata": {},
     "output_type": "execute_result"
    }
   ],
   "source": [
    "len(all_lg_vectors[0])"
   ]
  },
  {
   "cell_type": "code",
   "execution_count": 48,
   "metadata": {
    "collapsed": false
   },
   "outputs": [
    {
     "data": {
      "text/plain": [
       "261"
      ]
     },
     "execution_count": 48,
     "metadata": {},
     "output_type": "execute_result"
    }
   ],
   "source": [
    "len(all_lg_vectors[0][0])"
   ]
  }
 ],
 "metadata": {
  "anaconda-cloud": {},
  "kernelspec": {
   "display_name": "Python (spacy)",
   "language": "python",
   "name": "spacy"
  },
  "language_info": {
   "codemirror_mode": {
    "name": "ipython",
    "version": 3
   },
   "file_extension": ".py",
   "mimetype": "text/x-python",
   "name": "python",
   "nbconvert_exporter": "python",
   "pygments_lexer": "ipython3",
   "version": "3.5.6"
  },
  "varInspector": {
   "cols": {
    "lenName": 16,
    "lenType": 16,
    "lenVar": 40
   },
   "kernels_config": {
    "python": {
     "delete_cmd_postfix": "",
     "delete_cmd_prefix": "del ",
     "library": "var_list.py",
     "varRefreshCmd": "print(var_dic_list())"
    },
    "r": {
     "delete_cmd_postfix": ") ",
     "delete_cmd_prefix": "rm(",
     "library": "var_list.r",
     "varRefreshCmd": "cat(var_dic_list()) "
    }
   },
   "position": {
    "height": "447px",
    "left": "1516px",
    "right": "20px",
    "top": "141px",
    "width": "359px"
   },
   "types_to_exclude": [
    "module",
    "function",
    "builtin_function_or_method",
    "instance",
    "_Feature"
   ],
   "window_display": true
  }
 },
 "nbformat": 4,
 "nbformat_minor": 2
}
