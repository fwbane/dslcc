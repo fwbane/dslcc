{
 "cells": [
  {
   "cell_type": "code",
   "execution_count": 2,
   "metadata": {
    "collapsed": false
   },
   "outputs": [],
   "source": [
    "dataset = 'data/DSL-TRAIN.txt'"
   ]
  },
  {
   "cell_type": "code",
   "execution_count": 47,
   "metadata": {
    "collapsed": false
   },
   "outputs": [],
   "source": [
    "import nltk\n",
    "from nltk.tokenize import TreebankWordTokenizer\n",
    "from nltk.parse.corenlp import CoreNLPParser\n",
    "from nltk.tokenize import RegexpTokenizer\n",
    "from nltk.util import ngrams\n",
    "import pandas as pd"
   ]
  },
  {
   "cell_type": "code",
   "execution_count": 68,
   "metadata": {
    "collapsed": false
   },
   "outputs": [
    {
     "name": "stdout",
     "output_type": "stream",
     "text": [
      "252000\n"
     ]
    }
   ],
   "source": [
    "# First let's see how many examples we have to work with\n",
    "linecount = 0\n",
    "with open(dataset, encoding='utf-8') as f:\n",
    "    for line in f:\n",
    "        linecount += 1\n",
    "print(linecount)"
   ]
  },
  {
   "cell_type": "code",
   "execution_count": 82,
   "metadata": {
    "collapsed": true
   },
   "outputs": [],
   "source": [
    "# Let's briefly examine two tokenizing methods, the treebank tokenizer and a simple RegEx based tokenizer\n",
    "with open(dataset, encoding='utf-8') as f:\n",
    "    text, lang = f.readline().split('\\t')"
   ]
  },
  {
   "cell_type": "code",
   "execution_count": 83,
   "metadata": {
    "collapsed": false
   },
   "outputs": [
    {
     "data": {
      "text/plain": [
       "['-',\n",
       " '57,5',\n",
       " 'miliona',\n",
       " 'maloljetnih',\n",
       " 'djevojčica',\n",
       " 'prisilno',\n",
       " 'stupi',\n",
       " 'u',\n",
       " 'brak',\n",
       " 'širom',\n",
       " 'svijeta',\n",
       " ',',\n",
       " 'dok',\n",
       " 'čak',\n",
       " '40',\n",
       " 'odsto',\n",
       " 'od',\n",
       " 'tog',\n",
       " 'broja',\n",
       " 'čine',\n",
       " 'maloljetne',\n",
       " 'Indijke',\n",
       " '.']"
      ]
     },
     "execution_count": 83,
     "metadata": {},
     "output_type": "execute_result"
    }
   ],
   "source": [
    "TreebankWordTokenizer().tokenize(text)"
   ]
  },
  {
   "cell_type": "code",
   "execution_count": 38,
   "metadata": {
    "collapsed": false,
    "scrolled": true
   },
   "outputs": [
    {
     "data": {
      "text/plain": [
       "['-',\n",
       " '57',\n",
       " ',5',\n",
       " 'miliona',\n",
       " 'maloljetnih',\n",
       " 'djevojčica',\n",
       " 'prisilno',\n",
       " 'stupi',\n",
       " 'u',\n",
       " 'brak',\n",
       " 'širom',\n",
       " 'svijeta',\n",
       " ',',\n",
       " 'dok',\n",
       " 'čak',\n",
       " '40',\n",
       " 'odsto',\n",
       " 'od',\n",
       " 'tog',\n",
       " 'broja',\n",
       " 'čine',\n",
       " 'maloljetne',\n",
       " 'Indijke',\n",
       " '.']"
      ]
     },
     "execution_count": 38,
     "metadata": {},
     "output_type": "execute_result"
    }
   ],
   "source": [
    "tokenizer = RegexpTokenizer(r'\\w+|$[0-9.]+|\\S+')\n",
    "tokenizer.tokenize(text)"
   ]
  },
  {
   "cell_type": "code",
   "execution_count": 54,
   "metadata": {
    "collapsed": true
   },
   "outputs": [],
   "source": [
    "# Create DataFrame\n",
    "columns = ['Text', 'Language']\n",
    "df_dataset = pd.DataFrame(columns=columns)"
   ]
  },
  {
   "cell_type": "code",
   "execution_count": 69,
   "metadata": {
    "collapsed": false
   },
   "outputs": [],
   "source": [
    "# Now load the tokenized examples into the DataFrame\n",
    "with open(dataset, encoding='utf-8') as f:\n",
    "    for i in range(50000):\n",
    "        text, lang = f.readline().split('\\t')\n",
    "        tokens = TreebankWordTokenizer().tokenize(text)\n",
    "        df_dataset.loc[i] = [tokens, lang[:-1]]"
   ]
  },
  {
   "cell_type": "code",
   "execution_count": 81,
   "metadata": {
    "collapsed": false
   },
   "outputs": [
    {
     "data": {
      "text/plain": [
       "array(['bs', 'es-AR', 'es-ES'], dtype=object)"
      ]
     },
     "execution_count": 81,
     "metadata": {},
     "output_type": "execute_result"
    }
   ],
   "source": [
    "df_dataset.Language.unique()"
   ]
  },
  {
   "cell_type": "code",
   "execution_count": 46,
   "metadata": {
    "collapsed": false
   },
   "outputs": [
    {
     "data": {
      "text/plain": [
       "['- 57,5 miliona',\n",
       " '57,5 miliona maloljetnih',\n",
       " 'miliona maloljetnih djevojčica',\n",
       " 'maloljetnih djevojčica prisilno',\n",
       " 'djevojčica prisilno stupi',\n",
       " 'prisilno stupi u',\n",
       " 'stupi u brak',\n",
       " 'u brak širom',\n",
       " 'brak širom svijeta',\n",
       " 'širom svijeta ,',\n",
       " 'svijeta , dok',\n",
       " ', dok čak',\n",
       " 'dok čak 40',\n",
       " 'čak 40 odsto',\n",
       " '40 odsto od',\n",
       " 'odsto od tog',\n",
       " 'od tog broja',\n",
       " 'tog broja čine',\n",
       " 'broja čine maloljetne',\n",
       " 'čine maloljetne Indijke',\n",
       " 'maloljetne Indijke .']"
      ]
     },
     "execution_count": 46,
     "metadata": {},
     "output_type": "execute_result"
    }
   ],
   "source": [
    "ng = ngrams(tokens, 3)\n",
    "[\" \".join(x) for x in ng]"
   ]
  },
  {
   "cell_type": "code",
   "execution_count": null,
   "metadata": {
    "collapsed": true
   },
   "outputs": [],
   "source": []
  }
 ],
 "metadata": {
  "anaconda-cloud": {},
  "kernelspec": {
   "display_name": "Python (spacy)",
   "language": "python",
   "name": "spacy"
  },
  "language_info": {
   "codemirror_mode": {
    "name": "ipython",
    "version": 3
   },
   "file_extension": ".py",
   "mimetype": "text/x-python",
   "name": "python",
   "nbconvert_exporter": "python",
   "pygments_lexer": "ipython3",
   "version": "3.5.6"
  },
  "varInspector": {
   "cols": {
    "lenName": 16,
    "lenType": 16,
    "lenVar": 40
   },
   "kernels_config": {
    "python": {
     "delete_cmd_postfix": "",
     "delete_cmd_prefix": "del ",
     "library": "var_list.py",
     "varRefreshCmd": "print(var_dic_list())"
    },
    "r": {
     "delete_cmd_postfix": ") ",
     "delete_cmd_prefix": "rm(",
     "library": "var_list.r",
     "varRefreshCmd": "cat(var_dic_list()) "
    }
   },
   "position": {
    "height": "543px",
    "left": "1536px",
    "right": "20px",
    "top": "126px",
    "width": "350px"
   },
   "types_to_exclude": [
    "module",
    "function",
    "builtin_function_or_method",
    "instance",
    "_Feature"
   ],
   "window_display": true
  }
 },
 "nbformat": 4,
 "nbformat_minor": 2
}
